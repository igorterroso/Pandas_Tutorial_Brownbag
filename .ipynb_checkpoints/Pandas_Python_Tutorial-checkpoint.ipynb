{
 "cells": [
  {
   "cell_type": "markdown",
   "metadata": {
    "ExecuteTime": {
     "end_time": "2019-03-30T15:53:33.592214Z",
     "start_time": "2019-03-30T15:53:33.586231Z"
    },
    "slideshow": {
     "slide_type": "slide"
    }
   },
   "source": [
    "![](pictures/celfocus_logo_black.png)\n",
    "\n",
    "<h1><center>Brownbag</center></h1>\n",
    "<h1><center>Python and Pandas - More than cuddly bears and deadly snakes</center></h1>\n",
    "<h1><center>Python and Pandas for data wrangling</center></h1>\n",
    "\n",
    "\n",
    "TESTING"
   ]
  },
  {
   "cell_type": "markdown",
   "metadata": {
    "slideshow": {
     "slide_type": "slide"
    }
   },
   "source": [
    "<h1><center>It all starts with Python...</center></h1>"
   ]
  },
  {
   "cell_type": "markdown",
   "metadata": {
    "ExecuteTime": {
     "end_time": "2019-03-30T16:01:20.499772Z",
     "start_time": "2019-03-30T16:01:20.469772Z"
    },
    "slideshow": {
     "slide_type": "fragment"
    }
   },
   "source": [
    "<center><img src=\"pictures/python.jpg\" alt=\"Python\"\n",
    "\ttitle=\"What?\" width=\"1000\" height=\"300\" /></center>"
   ]
  },
  {
   "cell_type": "markdown",
   "metadata": {
    "slideshow": {
     "slide_type": "fragment"
    }
   },
   "source": [
    "<h1><center>Maybe not this kind of Python...</center></h1>"
   ]
  },
  {
   "cell_type": "markdown",
   "metadata": {
    "slideshow": {
     "slide_type": "slide"
    }
   },
   "source": [
    "<h1><center>Maybe something more cuddly like pandas!</center></h1>"
   ]
  },
  {
   "cell_type": "markdown",
   "metadata": {
    "ExecuteTime": {
     "end_time": "2019-03-28T10:45:05.611703Z",
     "start_time": "2019-03-28T10:45:05.499700Z"
    },
    "scrolled": true,
    "slideshow": {
     "slide_type": "fragment"
    }
   },
   "source": [
    "<center><img src=\"pictures/pandas.jpg\" alt=\"Pandas\"\n",
    "\ttitle=\"What?\" width=\"1000\" height=\"300\" /></center>"
   ]
  },
  {
   "cell_type": "markdown",
   "metadata": {
    "slideshow": {
     "slide_type": "fragment"
    }
   },
   "source": [
    "<h1><center>Sorry but also not this kind of Pandas...</center></h1>"
   ]
  },
  {
   "cell_type": "markdown",
   "metadata": {
    "ExecuteTime": {
     "end_time": "2019-04-03T11:12:34.242124Z",
     "start_time": "2019-04-03T11:12:34.236128Z"
    },
    "cell_style": "split",
    "slideshow": {
     "slide_type": "slide"
    }
   },
   "source": [
    "![](pictures/python_logo.png)\n",
    "\n",
    "**Python** is an interpreted, high-level, general-purpose programming language. Created by Guido van Rossum and first released in 1991, Python has a design philosophy that emphasizes code readability, notably using significant whitespace.\n",
    "\n",
    "![](pictures/pandas_logo.png)\n",
    "\n",
    "**pandas (Python Data Analysis Library)** is an open source, BSD-licensed library providing high-performance, easy-to-use data structures and data analysis tools for the Python programming language."
   ]
  },
  {
   "cell_type": "markdown",
   "metadata": {
    "ExecuteTime": {
     "end_time": "2019-04-03T11:10:22.006625Z",
     "start_time": "2019-04-03T11:10:21.978127Z"
    },
    "cell_style": "split",
    "slideshow": {
     "slide_type": "fragment"
    }
   },
   "source": [
    "![](pictures/pandas_book.jpg)\n",
    "\n",
    "[Book on Amazon](https://www.amazon.com/dp/1491957662/ref=cm_sw_em_r_mt_dp_U_iyjPCb6QF2KWN )\n",
    "\n",
    "You can also go to:\n",
    "\n",
    "https://pandas.pydata.org/\n",
    "\n",
    "And get the full reference on the pandas library online."
   ]
  },
  {
   "cell_type": "markdown",
   "metadata": {
    "slideshow": {
     "slide_type": "slide"
    }
   },
   "source": [
    "## Summary\n",
    "\n",
    "In this brownbag we will:\n",
    "\n",
    "**Create Data** - We begin by creating/extracting our own data set for analysis. We will store this data set to a csv file so that you can get some experience pulling data from a file.  \n",
    "**Get Data** - We will learn how to read from a file. Our data will be around Test Data coming from TestRail.  \n",
    "**Prepare Data** - Here we will simply take a look at the data and make sure it is clean. By clean I mean we will take a look inside the contents of the data file and look for any anomalies. These can include missing data, inconsistencies in the data, or any other data that seems out of place. If any are found we will then have to make decisions on what to do with these records.  \n",
    "**Analyze Data** - We will simply calculate a simple Tests passed metric for a specific Test Run.  \n",
    "**Present Data** - Through tabular data and a graph, clearly show the end user what is the status of a specific milestone or run.       "
   ]
  },
  {
   "cell_type": "markdown",
   "metadata": {
    "slideshow": {
     "slide_type": "slide"
    }
   },
   "source": [
    "## Create/Get Data  \n",
    "\n",
    "The first data set will consist of the Test Statuses that we have defined in TestRail and their id."
   ]
  },
  {
   "cell_type": "markdown",
   "metadata": {
    "ExecuteTime": {
     "end_time": "2019-03-26T16:09:58.486877Z",
     "start_time": "2019-03-26T16:09:58.483878Z"
    },
    "slideshow": {
     "slide_type": "slide"
    }
   },
   "source": [
    "### Setup  access to our Testrail instance\n",
    "\n",
    "* We need credentials but it's safer to keep them stored in a file and tokenized"
   ]
  },
  {
   "cell_type": "code",
   "execution_count": null,
   "metadata": {
    "ExecuteTime": {
     "end_time": "2019-04-04T14:32:50.355818Z",
     "start_time": "2019-04-04T14:32:50.331318Z"
    },
    "slideshow": {
     "slide_type": "fragment"
    }
   },
   "outputs": [],
   "source": [
    "import yaml\n",
    "\n",
    "with open(\"config.yml\", 'r') as ymlfile:\n",
    "    cfg = yaml.load(ymlfile, Loader=yaml.FullLoader)\n",
    "\n",
    "host = cfg['testrail']['host']\n",
    "user = cfg['testrail']['user']\n",
    "password = cfg['testrail']['token']"
   ]
  },
  {
   "cell_type": "markdown",
   "metadata": {
    "slideshow": {
     "slide_type": "slide"
    }
   },
   "source": [
    "* Let's instantiate the access to TestRail and create a small function to retrieve what Test Statuses are supported currently."
   ]
  },
  {
   "cell_type": "code",
   "execution_count": null,
   "metadata": {
    "ExecuteTime": {
     "end_time": "2019-04-04T14:33:24.872254Z",
     "start_time": "2019-04-04T14:33:22.986693Z"
    },
    "cell_style": "center",
    "code_folding": [],
    "slideshow": {
     "slide_type": "fragment"
    }
   },
   "outputs": [],
   "source": [
    "from testrail_original import *\n",
    "import pprint\n",
    "import pandas as pd\n",
    "import time\n",
    "import warnings\n",
    "warnings.filterwarnings('ignore')\n",
    "pd.set_option('display.max_colwidth', -1)\n",
    "\n",
    "# Setup Access to instance\n",
    "client = APIClient(str(host))\n",
    "client.user = user\n",
    "client.password = cfg['testrail']['token']\n",
    "\n",
    "\n",
    "def get_statuses():\n",
    "    '''\n",
    "    GET index.php?/api/v2/get_statuses\n",
    "    '''\n",
    "    statuses = client.send_get('get_statuses/')\n",
    "    df_statuses = pd.DataFrame.from_records(statuses)\n",
    "    return df_statuses\n",
    "\n",
    "df_statuses = get_statuses()\n",
    "df_statuses"
   ]
  },
  {
   "cell_type": "markdown",
   "metadata": {
    "slideshow": {
     "slide_type": "slide"
    }
   },
   "source": [
    "### Cleaning data and saving to file\n",
    "There are too many columns and some are not useful for us...\n",
    "Let's **clean some data**.\n",
    "And store it in a **csv** file."
   ]
  },
  {
   "cell_type": "code",
   "execution_count": null,
   "metadata": {
    "ExecuteTime": {
     "end_time": "2019-04-04T14:33:40.970999Z",
     "start_time": "2019-04-04T14:33:40.955998Z"
    },
    "slideshow": {
     "slide_type": "fragment"
    }
   },
   "outputs": [],
   "source": [
    "df_statuses = df_statuses.loc[:, ['id', 'label']]\n",
    "df_statuses.rename(columns={'id': 'status_id'}, inplace=True)\n",
    "df_statuses\n"
   ]
  },
  {
   "cell_type": "markdown",
   "metadata": {
    "cell_style": "center",
    "slideshow": {
     "slide_type": "slide"
    }
   },
   "source": [
    "* Let's Export the dataframe to a ***csv*** file. We can name the file ***TestRail_test_statuses.csv***. The function ***to_csv*** will be used to export the file. The file will be saved in the same location of the notebook unless specified otherwise.\n",
    "* If I have doubts about the function to use I can just ask for it's description"
   ]
  },
  {
   "cell_type": "code",
   "execution_count": null,
   "metadata": {
    "ExecuteTime": {
     "end_time": "2019-04-04T13:28:34.399573Z",
     "start_time": "2019-04-04T13:28:34.318575Z"
    },
    "cell_style": "center",
    "slideshow": {
     "slide_type": "fragment"
    }
   },
   "outputs": [],
   "source": [
    "df_statuses.to_csv?"
   ]
  },
  {
   "cell_type": "markdown",
   "metadata": {
    "cell_style": "center",
    "slideshow": {
     "slide_type": "slide"
    }
   },
   "source": [
    "The only parameters we will use are ***index*** and ***header***. Setting these parameters to False will prevent the index and header names from being exported. Change the values of these parameters to get a better understanding of their use."
   ]
  },
  {
   "cell_type": "code",
   "execution_count": null,
   "metadata": {
    "ExecuteTime": {
     "end_time": "2019-04-04T14:34:06.234329Z",
     "start_time": "2019-04-04T14:34:06.213349Z"
    },
    "slideshow": {
     "slide_type": "fragment"
    }
   },
   "outputs": [],
   "source": [
    "df_statuses.to_csv('TestRail_test_statuses.csv',index=False,header=True)"
   ]
  },
  {
   "cell_type": "markdown",
   "metadata": {
    "slideshow": {
     "slide_type": "slide"
    }
   },
   "source": [
    "### Get Data via REST API\n",
    "\n",
    "Let's get some more data that allows for a more meaningful analysis.\n",
    "Check the results from a specific run. \n",
    "More data on the types of data we can extract from **TestRail** is available in this [link](http://docs.gurock.com/testrail-api2/start)."
   ]
  },
  {
   "cell_type": "code",
   "execution_count": null,
   "metadata": {
    "ExecuteTime": {
     "end_time": "2019-04-04T14:34:14.488556Z",
     "start_time": "2019-04-04T14:34:12.876335Z"
    },
    "cell_style": "split",
    "slideshow": {
     "slide_type": "fragment"
    }
   },
   "outputs": [],
   "source": [
    "results = client.send_get('get_run/9909')\n",
    "\n",
    "print (results)"
   ]
  },
  {
   "cell_type": "markdown",
   "metadata": {
    "ExecuteTime": {
     "end_time": "2019-04-03T12:16:36.372274Z",
     "start_time": "2019-04-03T12:16:36.367773Z"
    },
    "cell_style": "split",
    "slideshow": {
     "slide_type": "fragment"
    }
   },
   "source": [
    "<center><img src=\"https://media.giphy.com/media/xhN4C2vEuapCo/giphy.gif\" alt=\"Confused\"\n",
    "\ttitle=\"What?\" width=\"600\" height=\"300\" /></center>"
   ]
  },
  {
   "cell_type": "markdown",
   "metadata": {
    "slideshow": {
     "slide_type": "slide"
    }
   },
   "source": [
    "mmmm... This looks a little hard to read\n",
    "\n",
    "If only there was a way to clean this data into tabular format simply..."
   ]
  },
  {
   "cell_type": "code",
   "execution_count": null,
   "metadata": {
    "ExecuteTime": {
     "end_time": "2019-04-04T14:34:30.440055Z",
     "start_time": "2019-04-04T14:34:30.404554Z"
    },
    "slideshow": {
     "slide_type": "fragment"
    }
   },
   "outputs": [],
   "source": [
    "df_results = pd.DataFrame.from_dict(\n",
    "    results, orient='index', columns=['Values'])\n",
    "\n",
    "df_results = df_results.T\n",
    "df_results"
   ]
  },
  {
   "cell_type": "markdown",
   "metadata": {
    "slideshow": {
     "slide_type": "slide"
    }
   },
   "source": [
    "### Clean up data\n",
    "\n",
    "Again we have to much data and can prune some columns"
   ]
  },
  {
   "cell_type": "code",
   "execution_count": null,
   "metadata": {
    "ExecuteTime": {
     "end_time": "2019-04-04T14:34:37.636076Z",
     "start_time": "2019-04-04T14:34:37.618071Z"
    },
    "slideshow": {
     "slide_type": "fragment"
    }
   },
   "outputs": [],
   "source": [
    "df_results = df_results.loc[:, ['id', \n",
    "                                'name',\n",
    "                                'passed_count', \n",
    "                                'blocked_count',\n",
    "                                'untested_count', \n",
    "                                'retest_count', \n",
    "                                'failed_count',]]\n",
    "\n",
    "df_results"
   ]
  },
  {
   "cell_type": "markdown",
   "metadata": {
    "slideshow": {
     "slide_type": "slide"
    }
   },
   "source": [
    "Let's now perform some calculations to know how many test cases we have and calculate progress, success and failure rates.\n"
   ]
  },
  {
   "cell_type": "code",
   "execution_count": null,
   "metadata": {
    "ExecuteTime": {
     "end_time": "2019-04-04T14:34:48.077451Z",
     "start_time": "2019-04-04T14:34:48.059946Z"
    },
    "slideshow": {
     "slide_type": "fragment"
    }
   },
   "outputs": [],
   "source": [
    "df_results['Total_Tests'] = df_results['passed_count'] + \\\n",
    "    df_results['blocked_count'] + \\\n",
    "    df_results['retest_count'] + df_results['failed_count']\n",
    "\n",
    "df_results"
   ]
  },
  {
   "cell_type": "markdown",
   "metadata": {
    "slideshow": {
     "slide_type": "slide"
    }
   },
   "source": [
    "## Calculate metrics\n",
    "Calculated Ratios:\n",
    "$$Pass Rate = \\frac{Passed Tests}{Total Tests}$$\n",
    "\n",
    "$$Fail Rate = \\frac{Failed Tests}{Total Tests}$$\n"
   ]
  },
  {
   "cell_type": "code",
   "execution_count": null,
   "metadata": {
    "ExecuteTime": {
     "end_time": "2019-04-04T14:34:52.597614Z",
     "start_time": "2019-04-04T14:34:52.579612Z"
    },
    "slideshow": {
     "slide_type": "fragment"
    }
   },
   "outputs": [],
   "source": [
    "df_results['Pass_Rate'] = df_results['passed_count'] / df_results['Total_Tests']\n",
    "df_results['Fail_Rate'] = df_results['failed_count'] / df_results['Total_Tests']\n",
    "\n",
    "df_results\n"
   ]
  },
  {
   "cell_type": "markdown",
   "metadata": {
    "ExecuteTime": {
     "end_time": "2019-03-27T10:15:26.585185Z",
     "start_time": "2019-03-27T10:15:26.582183Z"
    },
    "slideshow": {
     "slide_type": "slide"
    }
   },
   "source": [
    "## Plot results"
   ]
  },
  {
   "cell_type": "code",
   "execution_count": null,
   "metadata": {
    "ExecuteTime": {
     "end_time": "2019-04-04T15:13:17.168452Z",
     "start_time": "2019-04-04T15:13:17.008957Z"
    },
    "slideshow": {
     "slide_type": "fragment"
    }
   },
   "outputs": [],
   "source": [
    "import plotly.graph_objs as go\n",
    "import plotly as py\n",
    "import ipywidgets as widgets\n",
    "import cufflinks as cf\n",
    "\n",
    "cf.go_offline()\n",
    "py.offline.init_notebook_mode(connected=True)\n",
    "\n",
    "df_pie = df_results[['passed_count', 'blocked_count',\n",
    "                     'untested_count', 'failed_count']].T\n",
    "df_pie = df_pie.reset_index()\n",
    "\n",
    "df_pie\n",
    "df_pie.iplot(kind='pie', labels='index', values='Values',\n",
    "             title='Test Status Distribution')"
   ]
  },
  {
   "cell_type": "markdown",
   "metadata": {
    "slideshow": {
     "slide_type": "slide"
    }
   },
   "source": [
    "* Let's plot another type of graph"
   ]
  },
  {
   "cell_type": "code",
   "execution_count": null,
   "metadata": {
    "ExecuteTime": {
     "end_time": "2019-04-04T15:13:03.631557Z",
     "start_time": "2019-04-04T15:13:03.268062Z"
    },
    "slideshow": {
     "slide_type": "fragment"
    }
   },
   "outputs": [],
   "source": [
    "df_bar_chart = df_results[['name','passed_count', 'blocked_count', 'untested_count', 'failed_count']]\n",
    "df_bar_chart = df_bar_chart.set_index('name')\n",
    "df_bar_chart\n",
    "\n",
    "\n",
    "df_bar_chart.iplot(kind='bar', barmode='stack', yTitle='Number of Tests', title='Test Run Status')"
   ]
  },
  {
   "cell_type": "markdown",
   "metadata": {
    "slideshow": {
     "slide_type": "slide"
    }
   },
   "source": [
    "## More Complex scenario\n",
    "\n",
    "What if I want to show something more complex like getting all results from a Test Run over time."
   ]
  },
  {
   "cell_type": "markdown",
   "metadata": {
    "slideshow": {
     "slide_type": "slide"
    }
   },
   "source": [
    "* Let's define a function that accepts the Run id as a parameter and retrieves the results over time via REST API returning a dataframe with those results."
   ]
  },
  {
   "cell_type": "code",
   "execution_count": null,
   "metadata": {
    "ExecuteTime": {
     "end_time": "2019-04-04T14:35:39.838505Z",
     "start_time": "2019-04-04T14:35:39.829984Z"
    },
    "slideshow": {
     "slide_type": "fragment"
    }
   },
   "outputs": [],
   "source": [
    "def get_results_for_run(run_id):\n",
    "    '''\n",
    "    Create a dataframe with the status of the list of tests from a run or plan\n",
    "    #GET index.php?/api/v2/get_results_for_run/:run_id\n",
    "    '''\n",
    "    results = client.send_get(\n",
    "        'get_results_for_run/'+str(run_id)+'&status_id=1,5')\n",
    "    df_results = pd.DataFrame.from_records(results)\n",
    "    df_results['run_id'] = str(run_id)\n",
    "\n",
    "    if 'created_on' in df_results.columns:\n",
    "        df_results['created_on'] = pd.to_datetime(\n",
    "            df_results['created_on'], unit='s')\n",
    "        #df_results['created_on'] = df_results['created_on'].dt.date\n",
    "    else:\n",
    "        df_results = pd.DataFrame(\n",
    "            columns=['defects', 'created_on', 'section_id', 'test_id'])\n",
    "        df_results['created_on'] = \"NA\"\n",
    "\n",
    "    df_results_filtered = df_results.loc[:, [\n",
    "        'run_id', 'test_id', 'status_id', 'created_on', 'defects']]\n",
    "    return df_results"
   ]
  },
  {
   "cell_type": "markdown",
   "metadata": {
    "slideshow": {
     "slide_type": "slide"
    }
   },
   "source": [
    "* Let's run the function for an example Test Run from TestRail."
   ]
  },
  {
   "cell_type": "code",
   "execution_count": null,
   "metadata": {
    "ExecuteTime": {
     "end_time": "2019-04-04T14:38:39.276471Z",
     "start_time": "2019-04-04T14:38:26.618464Z"
    },
    "code_folding": [
     0
    ],
    "slideshow": {
     "slide_type": "fragment"
    }
   },
   "outputs": [],
   "source": [
    "df_results_run = get_results_for_run('6974')\n",
    "df_results_run = df_results_run.loc[:, ['created_on', 'status_id']]\n",
    "df_results_run = df_results_run.dropna()\n",
    "df_results_run = df_results_run.set_index('created_on')\n",
    "df_results_run.head()"
   ]
  },
  {
   "cell_type": "markdown",
   "metadata": {
    "slideshow": {
     "slide_type": "slide"
    }
   },
   "source": [
    "* Now let's plot using an interactive type of graph produced by Plotly.\n",
    "    1. We will resample to daily status changes\n",
    "    2. Sum the results per status per day\n",
    "    3. Get the cumulative sum so we see the progress over time"
   ]
  },
  {
   "cell_type": "code",
   "execution_count": null,
   "metadata": {
    "ExecuteTime": {
     "end_time": "2019-04-04T14:45:22.980481Z",
     "start_time": "2019-04-04T14:45:22.864988Z"
    },
    "cell_style": "center",
    "slideshow": {
     "slide_type": "fragment"
    }
   },
   "outputs": [],
   "source": [
    "import cufflinks as cf\n",
    "import pandas as pd\n",
    "import plotly as py\n",
    "\n",
    "cf.go_offline()\n",
    "py.offline.init_notebook_mode(connected=True)\n",
    "\n",
    "\n",
    "df_sum_of_results_per_day = df_results_run.groupby(\n",
    "    'status_id').resample('D')['status_id'].sum()\n",
    "\n",
    "df_sum_of_results_per_day.head()"
   ]
  },
  {
   "cell_type": "markdown",
   "metadata": {
    "slideshow": {
     "slide_type": "slide"
    }
   },
   "source": [
    "* Calculate Cumulative Sums for statuses"
   ]
  },
  {
   "cell_type": "code",
   "execution_count": null,
   "metadata": {
    "ExecuteTime": {
     "end_time": "2019-04-04T14:59:28.436919Z",
     "start_time": "2019-04-04T14:59:28.407418Z"
    },
    "slideshow": {
     "slide_type": "fragment"
    }
   },
   "outputs": [],
   "source": [
    "df_to_graph = df_sum_of_results_per_day\n",
    "\n",
    "df_to_graph = df_to_graph.unstack('status_id')\n",
    "# remove unwanted extra line due to unstack\n",
    "df_to_graph = df_to_graph.reset_index()\n",
    "df_to_graph = df_to_graph.fillna(0)\n",
    "\n",
    "df_to_graph['cum_sum passed'] = df_to_graph[1].cumsum()\n",
    "df_to_graph['cum_sum failed'] = df_to_graph[5].cumsum()\n",
    "\n",
    "df_to_graph.columns = ['Date', 'Passed',\n",
    "                       'Failed', 'Cum_Sum Passed', 'Cum_sum Failed']\n",
    "df_to_graph = df_to_graph.set_index('Date')\n",
    "\n",
    "df_to_graph = df_to_graph.drop(['Passed', 'Failed'], axis=1)\n",
    "\n",
    "df_to_graph.tail()\n"
   ]
  },
  {
   "cell_type": "markdown",
   "metadata": {
    "cell_style": "center",
    "slideshow": {
     "slide_type": "slide"
    }
   },
   "source": [
    "<center><img src=\"pictures/clobberin_meme.jpg\" alt=\"The Thing\"\n",
    "\ttitle=\"What?\" width=\"500\" height=\"300\" /></center>"
   ]
  },
  {
   "cell_type": "code",
   "execution_count": null,
   "metadata": {
    "ExecuteTime": {
     "end_time": "2019-04-04T15:13:11.133433Z",
     "start_time": "2019-04-04T15:13:10.943436Z"
    },
    "cell_style": "center",
    "slideshow": {
     "slide_type": "slide"
    }
   },
   "outputs": [],
   "source": [
    "df_to_graph.iplot(kind='area', fill=True,\n",
    "                  title='Test Results', theme='ggplot', width=3, xTitle='Time',yTitle='Number of Tests')"
   ]
  },
  {
   "cell_type": "markdown",
   "metadata": {
    "ExecuteTime": {
     "end_time": "2019-04-04T15:04:14.856729Z",
     "start_time": "2019-04-04T15:04:14.821726Z"
    },
    "slideshow": {
     "slide_type": "slide"
    }
   },
   "source": [
    "<center><img src=\"pictures/yoda_meme.jpg\" alt=\"The Thing\"\n",
    "\ttitle=\"What?\" width=\"500\" height=\"300\" /></center>"
   ]
  },
  {
   "cell_type": "code",
   "execution_count": null,
   "metadata": {
    "slideshow": {
     "slide_type": "notes"
    }
   },
   "outputs": [],
   "source": [
    "from IPython.display import Image\n",
    "import plotly.io as pio\n",
    "\n",
    "fig = df_to_graph.iplot(kind='area', fill=True,\n",
    "                        title='Test Results', theme='ggplot', width=3, asFigure=True)\n",
    "\n",
    "pio.write_image(fig, 'fig1.png')\n",
    "\n",
    "Image(filename='fig1.png')\n",
    "\n",
    "\n",
    "Pivot examples with aggregate\n",
    "#pivot_df = df_results_run.pivot(index='created_on', columns='Month', values='Value')"
   ]
  }
 ],
 "metadata": {
  "kernelspec": {
   "display_name": "Python 3",
   "language": "python",
   "name": "python3"
  },
  "language_info": {
   "codemirror_mode": {
    "name": "ipython",
    "version": 3
   },
   "file_extension": ".py",
   "mimetype": "text/x-python",
   "name": "python",
   "nbconvert_exporter": "python",
   "pygments_lexer": "ipython3",
   "version": "3.7.1"
  },
  "latex_envs": {
   "LaTeX_envs_menu_present": true,
   "autoclose": false,
   "autocomplete": true,
   "bibliofile": "biblio.bib",
   "cite_by": "apalike",
   "current_citInitial": 1,
   "eqLabelWithNumbers": true,
   "eqNumInitial": 1,
   "hotkeys": {
    "equation": "Ctrl-E",
    "itemize": "Ctrl-I"
   },
   "labels_anchors": false,
   "latex_user_defs": false,
   "report_style_numbering": false,
   "user_envs_cfg": false
  },
  "toc": {
   "base_numbering": 1,
   "nav_menu": {},
   "number_sections": true,
   "sideBar": true,
   "skip_h1_title": true,
   "title_cell": "Table of Contents",
   "title_sidebar": "Contents",
   "toc_cell": false,
   "toc_position": {
    "height": "calc(100% - 180px)",
    "left": "10px",
    "top": "150px",
    "width": "390.984px"
   },
   "toc_section_display": true,
   "toc_window_display": false
  },
  "varInspector": {
   "cols": {
    "lenName": 16,
    "lenType": 16,
    "lenVar": 40
   },
   "kernels_config": {
    "python": {
     "delete_cmd_postfix": "",
     "delete_cmd_prefix": "del ",
     "library": "var_list.py",
     "varRefreshCmd": "print(var_dic_list())"
    },
    "r": {
     "delete_cmd_postfix": ") ",
     "delete_cmd_prefix": "rm(",
     "library": "var_list.r",
     "varRefreshCmd": "cat(var_dic_list()) "
    }
   },
   "types_to_exclude": [
    "module",
    "function",
    "builtin_function_or_method",
    "instance",
    "_Feature"
   ],
   "window_display": false
  }
 },
 "nbformat": 4,
 "nbformat_minor": 2
}
